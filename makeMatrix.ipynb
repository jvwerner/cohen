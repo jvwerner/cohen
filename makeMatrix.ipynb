{
 "cells": [
  {
   "cell_type": "code",
   "execution_count": 10,
   "id": "bd1bbe5b",
   "metadata": {},
   "outputs": [],
   "source": [
    "from IPython.display import display,Math\n",
    "import sympy as sym\n",
    "import numpy as np"
   ]
  },
  {
   "cell_type": "code",
   "execution_count": 13,
   "id": "b5de71f1",
   "metadata": {},
   "outputs": [
    {
     "data": {
      "text/latex": [
       "$\\displaystyle \\left[\\begin{matrix}0.0 & 0.0 & 0.0\\\\8.0 & 4.0 & 0.0\\\\16.0 & 8.0 & 0.0\\end{matrix}\\right]$"
      ],
      "text/plain": [
       "<IPython.core.display.Math object>"
      ]
     },
     "metadata": {},
     "output_type": "display_data"
    }
   ],
   "source": [
    "x,y = sym.symbols('x y')\n",
    "Fxy = (4*x)*(2-y)\n",
    "\n",
    "xyset = range(0,3)\n",
    "\n",
    "outmat = np.zeros([len(xyset), len(xyset)])\n",
    "\n",
    "for i in xyset:\n",
    "    for j in xyset:\n",
    "        outmat[i,j] = Fxy.subs({x:i,y:j})\n",
    "        \n",
    "display(Math(sym.latex(sym.sympify(outmat))))"
   ]
  },
  {
   "cell_type": "code",
   "execution_count": null,
   "id": "927f8b67",
   "metadata": {},
   "outputs": [],
   "source": []
  }
 ],
 "metadata": {
  "kernelspec": {
   "display_name": "Python 3 (ipykernel)",
   "language": "python",
   "name": "python3"
  },
  "language_info": {
   "codemirror_mode": {
    "name": "ipython",
    "version": 3
   },
   "file_extension": ".py",
   "mimetype": "text/x-python",
   "name": "python",
   "nbconvert_exporter": "python",
   "pygments_lexer": "ipython3",
   "version": "3.10.11"
  }
 },
 "nbformat": 4,
 "nbformat_minor": 5
}
