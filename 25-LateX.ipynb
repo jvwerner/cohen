{
 "cells": [
  {
   "cell_type": "code",
   "execution_count": 25,
   "id": "cfaa3a3d",
   "metadata": {},
   "outputs": [
    {
     "data": {
      "text/plain": [
       "9.0"
      ]
     },
     "metadata": {},
     "output_type": "display_data"
    }
   ],
   "source": [
    "from IPython.display import display, Math\n",
    "import numpy as np\n",
    "import sympy as sym\n",
    "\n",
    "display(np.sqrt(9)*np.sqrt(9))"
   ]
  },
  {
   "cell_type": "code",
   "execution_count": 26,
   "id": "e8a96937",
   "metadata": {},
   "outputs": [
    {
     "data": {
      "text/latex": [
       "$\\displaystyle \\sqrt{x}\\sqrt{x}$"
      ],
      "text/plain": [
       "<IPython.core.display.Math object>"
      ]
     },
     "metadata": {},
     "output_type": "display_data"
    }
   ],
   "source": [
    "display(Math('\\\\sqrt{x}\\\\sqrt{x}'))"
   ]
  },
  {
   "cell_type": "code",
   "execution_count": null,
   "id": "884c3554",
   "metadata": {},
   "outputs": [],
   "source": []
  }
 ],
 "metadata": {
  "kernelspec": {
   "display_name": "Python 3 (ipykernel)",
   "language": "python",
   "name": "python3"
  },
  "language_info": {
   "codemirror_mode": {
    "name": "ipython",
    "version": 3
   },
   "file_extension": ".py",
   "mimetype": "text/x-python",
   "name": "python",
   "nbconvert_exporter": "python",
   "pygments_lexer": "ipython3",
   "version": "3.10.11"
  }
 },
 "nbformat": 4,
 "nbformat_minor": 5
}
