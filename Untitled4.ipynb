{
 "cells": [
  {
   "cell_type": "code",
   "execution_count": 7,
   "id": "dc0fc46c",
   "metadata": {},
   "outputs": [],
   "source": [
    "from numpy import random\n",
    "\n",
    "def guessnumber():\n",
    "\n",
    "    genRandom = (random.randint(1,101))\n",
    "\n",
    "    # have user guess:\n",
    "\n",
    "    guesses = int(input('Guess a number between 1 and 100: '))\n",
    "\n",
    "    # check whether the number is a match:\n",
    "\n",
    "    while guesses != genRandom:\n",
    "    \n",
    "        if guesses > genRandom:\n",
    "            print('Guess lower')\n",
    "        \n",
    "        elif guesses < genRandom:\n",
    "            print('Guess higher')\n",
    "        \n",
    "        guesses = int(input('Guess again: '))\n",
    "            \n",
    "    \n",
    "    print('You\\'ve nailed it!')\n",
    "                \n",
    "        \n",
    "\n"
   ]
  },
  {
   "cell_type": "code",
   "execution_count": 8,
   "id": "2351d141",
   "metadata": {},
   "outputs": [
    {
     "name": "stdout",
     "output_type": "stream",
     "text": [
      "Guess a number between 1 and 100: 43\n",
      "Guess lower\n",
      "Guess again: 31\n",
      "Guess higher\n",
      "Guess again: 36\n",
      "Guess lower\n",
      "Guess again: 33\n",
      "You've nailed it!\n"
     ]
    }
   ],
   "source": [
    "guessnumber()\n"
   ]
  },
  {
   "cell_type": "code",
   "execution_count": null,
   "id": "3ca07526",
   "metadata": {},
   "outputs": [],
   "source": []
  }
 ],
 "metadata": {
  "kernelspec": {
   "display_name": "Python 3 (ipykernel)",
   "language": "python",
   "name": "python3"
  },
  "language_info": {
   "codemirror_mode": {
    "name": "ipython",
    "version": 3
   },
   "file_extension": ".py",
   "mimetype": "text/x-python",
   "name": "python",
   "nbconvert_exporter": "python",
   "pygments_lexer": "ipython3",
   "version": "3.10.11"
  }
 },
 "nbformat": 4,
 "nbformat_minor": 5
}
