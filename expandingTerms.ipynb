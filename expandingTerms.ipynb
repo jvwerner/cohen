{
 "cells": [
  {
   "cell_type": "code",
   "execution_count": 2,
   "id": "c0f5336a",
   "metadata": {},
   "outputs": [],
   "source": [
    "from IPython.display import display,Math\n",
    "from sympy.abc import x,y"
   ]
  },
  {
   "cell_type": "code",
   "execution_count": 33,
   "id": "282ac724",
   "metadata": {},
   "outputs": [
    {
     "name": "stdout",
     "output_type": "stream",
     "text": [
      "x*(4*x + 5)\n"
     ]
    },
    {
     "data": {
      "text/latex": [
       "$\\displaystyle 4 x^{2} + 5 x$"
      ],
      "text/plain": [
       "<IPython.core.display.Math object>"
      ]
     },
     "metadata": {},
     "output_type": "display_data"
    }
   ],
   "source": [
    "term1 = (4*x + 5)\n",
    "term2 = x\n",
    "\n",
    "print(term1*term2)\n",
    "display(Math(sym.latex(sym.expand(term1*term2))))"
   ]
  },
  {
   "cell_type": "code",
   "execution_count": 32,
   "id": "3b9976a7",
   "metadata": {},
   "outputs": [
    {
     "data": {
      "text/latex": [
       "$\\displaystyle \\left(x - 7\\right) \\left(4 x + 5\\right)$"
      ],
      "text/plain": [
       "<IPython.core.display.Math object>"
      ]
     },
     "metadata": {},
     "output_type": "display_data"
    },
    {
     "data": {
      "text/latex": [
       "$\\displaystyle 4 x^{2} - 23 x - 35$"
      ],
      "text/plain": [
       "<IPython.core.display.Math object>"
      ]
     },
     "metadata": {},
     "output_type": "display_data"
    }
   ],
   "source": [
    "term3 = x - 7\n",
    "\n",
    "display(Math(sym.latex(term1*term3)))\n",
    "display(Math(sym.latex(sym.expand(term1*term3))))"
   ]
  },
  {
   "cell_type": "code",
   "execution_count": 37,
   "id": "42234ea4",
   "metadata": {},
   "outputs": [
    {
     "data": {
      "text/latex": [
       "$\\displaystyle x \\left(- \\frac{5^{x}}{x} + 2 y^{2}\\right)$"
      ],
      "text/plain": [
       "<IPython.core.display.Math object>"
      ]
     },
     "metadata": {},
     "output_type": "display_data"
    },
    {
     "data": {
      "text/latex": [
       "$\\displaystyle - 5^{x} + 2 x y^{2}$"
      ],
      "text/plain": [
       "<IPython.core.display.Math object>"
      ]
     },
     "metadata": {},
     "output_type": "display_data"
    }
   ],
   "source": [
    "from sympy.abc import y\n",
    "\n",
    "expr = x*(2*y**2 - 5**x/x)\n",
    "display(Math(sym.latex(expr)))\n",
    "display(Math(sym.latex(sym.expand(expr))))\n"
   ]
  },
  {
   "cell_type": "code",
   "execution_count": 40,
   "id": "3fe0df3a",
   "metadata": {
    "scrolled": true
   },
   "outputs": [
    {
     "name": "stdout",
     "output_type": "stream",
     "text": [
      "Variable   Type        Data/Info\n",
      "--------------------------------\n",
      "Math       type        <class 'IPython.core.display.Math'>\n",
      "display    function    <function display at 0x7f801e427640>\n",
      "expr       Mul         x*(-5**x/x + 2*y**2)\n",
      "numpy      module      <module 'numpy' from '/ho<...>kages/numpy/__init__.py'>\n",
      "sym        module      <module 'sympy' from '/ho<...>kages/sympy/__init__.py'>\n",
      "term1      Add         4*x + 5\n",
      "term2      Symbol      x\n",
      "term3      Add         x - 7\n",
      "x          Symbol      x\n",
      "y          Symbol      y\n"
     ]
    }
   ],
   "source": [
    "%whos\n",
    "# gives breakdown of all types used in current program\n"
   ]
  },
  {
   "cell_type": "code",
   "execution_count": 14,
   "id": "28e6ae66",
   "metadata": {},
   "outputs": [
    {
     "name": "stdout",
     "output_type": "stream",
     "text": [
      "When xi= 0 and yi= 0, f(xi,yi)= 8\n",
      "When xi= 0 and yi= 1, f(xi,yi)= 4\n",
      "When xi= 0 and yi= 2, f(xi,yi)= 0\n",
      "When xi= 1 and yi= 0, f(xi,yi)= 10\n",
      "When xi= 1 and yi= 1, f(xi,yi)= 5\n",
      "When xi= 1 and yi= 2, f(xi,yi)= 0\n",
      "When xi= 2 and yi= 0, f(xi,yi)= 12\n",
      "When xi= 2 and yi= 1, f(xi,yi)= 6\n",
      "When xi= 2 and yi= 2, f(xi,yi)= 0\n"
     ]
    }
   ],
   "source": [
    "Fxy = (4+x)*(2-y)\n",
    "numrange = range(0,3)\n",
    "\n",
    "for xi in numrange:\n",
    "    for yi in numrange:\n",
    "        print('When xi= %g and yi= %g, f(xi,yi)= %g' %(xi,yi, Fxy.subs({x:xi,y:yi})))\n"
   ]
  }
 ],
 "metadata": {
  "kernelspec": {
   "display_name": "Python 3 (ipykernel)",
   "language": "python",
   "name": "python3"
  },
  "language_info": {
   "codemirror_mode": {
    "name": "ipython",
    "version": 3
   },
   "file_extension": ".py",
   "mimetype": "text/x-python",
   "name": "python",
   "nbconvert_exporter": "python",
   "pygments_lexer": "ipython3",
   "version": "3.10.11"
  }
 },
 "nbformat": 4,
 "nbformat_minor": 5
}
