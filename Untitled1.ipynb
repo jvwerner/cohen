{
 "cells": [
  {
   "cell_type": "code",
   "execution_count": 1,
   "id": "bf36df1c",
   "metadata": {},
   "outputs": [],
   "source": [
    "def divisionWithInput():\n",
    "   \n",
    "    x = int(input('type numerator:'))\n",
    "    y = int(input('type denominator:'))\n",
    "   \n",
    "    divis = int(x/y)\n",
    "    remainder = x%y\n",
    "   \n",
    "    print('%g can be divided by %g %g times, with a remainder of %g' %(x,y,divis,remainder))"
   ]
  },
  {
   "cell_type": "code",
   "execution_count": 2,
   "id": "a5773fb6",
   "metadata": {},
   "outputs": [
    {
     "name": "stdout",
     "output_type": "stream",
     "text": [
      "type numerator:667\n",
      "type denominator:11\n",
      "667 can be divided by 11 60 times, with a remainder of 7\n"
     ]
    }
   ],
   "source": [
    "divisionWithInput()"
   ]
  },
  {
   "cell_type": "code",
   "execution_count": 3,
   "id": "389847d1",
   "metadata": {},
   "outputs": [
    {
     "data": {
      "text/plain": [
       "60.54545454545455"
      ]
     },
     "execution_count": 3,
     "metadata": {},
     "output_type": "execute_result"
    }
   ],
   "source": [
    "666/11\n"
   ]
  },
  {
   "cell_type": "code",
   "execution_count": null,
   "id": "b5619cf9",
   "metadata": {},
   "outputs": [],
   "source": []
  }
 ],
 "metadata": {
  "kernelspec": {
   "display_name": "Python 3 (ipykernel)",
   "language": "python",
   "name": "python3"
  },
  "language_info": {
   "codemirror_mode": {
    "name": "ipython",
    "version": 3
   },
   "file_extension": ".py",
   "mimetype": "text/x-python",
   "name": "python",
   "nbconvert_exporter": "python",
   "pygments_lexer": "ipython3",
   "version": "3.10.8"
  }
 },
 "nbformat": 4,
 "nbformat_minor": 5
}
