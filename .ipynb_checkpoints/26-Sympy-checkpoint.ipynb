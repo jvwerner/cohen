{
 "cells": [
  {
   "cell_type": "code",
   "execution_count": 1,
   "id": "315fb211",
   "metadata": {},
   "outputs": [],
   "source": [
    "from IPython.display import display,Math\n",
    "import sympy as sym\n",
    "sym.init_printing()"
   ]
  },
  {
   "cell_type": "code",
   "execution_count": 8,
   "id": "066eeb9b",
   "metadata": {
    "scrolled": true
   },
   "outputs": [
    {
     "data": {
      "text/latex": [
       "$\\displaystyle e^{\\frac{\\left(- \\alpha + \\mu\\right)^{2}}{2 \\sigma^{2}}}$"
      ],
      "text/plain": [
       "exp((-alpha + mu)**2/(2*sigma**2))"
      ]
     },
     "metadata": {},
     "output_type": "display_data"
    }
   ],
   "source": [
    "mu,alpha,sigma = sym.symbols('mu,alpha,sigma')\n",
    "expression = sym.exp('(mu - alpha)**2 / (2*sigma**2)')\n",
    "display(expression)"
   ]
  },
  {
   "cell_type": "code",
   "execution_count": 10,
   "id": "68c574e9",
   "metadata": {},
   "outputs": [
    {
     "data": {
      "text/latex": [
       "$\\displaystyle \\frac{hello}{3}$"
      ],
      "text/plain": [
       "hello/3"
      ]
     },
     "execution_count": 10,
     "metadata": {},
     "output_type": "execute_result"
    }
   ],
   "source": [
    "hello = sym.symbols('hello')\n",
    "hello/3"
   ]
  },
  {
   "cell_type": "code",
   "execution_count": 36,
   "id": "b024923b",
   "metadata": {},
   "outputs": [
    {
     "data": {
      "text/latex": [
       "$\\displaystyle 6$"
      ],
      "text/plain": [
       "6"
      ]
     },
     "execution_count": 36,
     "metadata": {},
     "output_type": "execute_result"
    }
   ],
   "source": [
    "a,b,c = sym.symbols('a,b,c')\n",
    "expr = x+4+2*y\n",
    "expr.subs({x:(-4),y:3})"
   ]
  },
  {
   "cell_type": "code",
   "execution_count": 26,
   "id": "98f7a38b",
   "metadata": {},
   "outputs": [
    {
     "data": {
      "text/latex": [
       "$\\displaystyle \\frac{3}{x}$"
      ],
      "text/plain": [
       "<IPython.core.display.Math object>"
      ]
     },
     "metadata": {},
     "output_type": "display_data"
    }
   ],
   "source": [
    "expr2 = 3/x\n",
    "display(Math(sym.latex(expr2)))"
   ]
  },
  {
   "cell_type": "code",
   "execution_count": 37,
   "id": "6b8bb07a",
   "metadata": {},
   "outputs": [
    {
     "data": {
      "text/plain": [
       "'\\\\frac{99 x}{y z}'"
      ]
     },
     "metadata": {},
     "output_type": "display_data"
    },
    {
     "data": {
      "text/latex": [
       "$\\displaystyle \\frac{5}{7}$"
      ],
      "text/plain": [
       "<IPython.core.display.Math object>"
      ]
     },
     "metadata": {},
     "output_type": "display_data"
    }
   ],
   "source": [
    "x,y,z = sym.symbols('x,y,z')\n",
    "expr3 = (99*x)/(y*z)\n",
    "display(sym.latex(expr3))\n",
    "display(Math(sym.latex(sym.sympify('5/7'))))"
   ]
  },
  {
   "cell_type": "code",
   "execution_count": 17,
   "id": "61780b82",
   "metadata": {},
   "outputs": [
    {
     "data": {
      "text/latex": [
       "$\\displaystyle \\text{With x = -2} \\Rightarrow-2^{2} + 4$"
      ],
      "text/plain": [
       "<IPython.core.display.Math object>"
      ]
     },
     "metadata": {},
     "output_type": "display_data"
    }
   ],
   "source": [
    "x = sym.symbols('-2')\n",
    "display(Math('\\\\text{With x = -2} \\\\Rightarrow' + (sym.latex(sym.sympify(x**2 + 4)))))"
   ]
  },
  {
   "cell_type": "code",
   "execution_count": null,
   "id": "d7777319",
   "metadata": {},
   "outputs": [],
   "source": []
  },
  {
   "cell_type": "code",
   "execution_count": null,
   "id": "226a90f0",
   "metadata": {},
   "outputs": [],
   "source": []
  }
 ],
 "metadata": {
  "kernelspec": {
   "display_name": "Python 3 (ipykernel)",
   "language": "python",
   "name": "python3"
  },
  "language_info": {
   "codemirror_mode": {
    "name": "ipython",
    "version": 3
   },
   "file_extension": ".py",
   "mimetype": "text/x-python",
   "name": "python",
   "nbconvert_exporter": "python",
   "pygments_lexer": "ipython3",
   "version": "3.10.11"
  }
 },
 "nbformat": 4,
 "nbformat_minor": 5
}
