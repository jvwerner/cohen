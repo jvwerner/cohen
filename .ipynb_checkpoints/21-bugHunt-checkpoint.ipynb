{
 "cells": [
  {
   "cell_type": "code",
   "execution_count": 6,
   "id": "9d6d083a",
   "metadata": {},
   "outputs": [],
   "source": [
    "from IPython.display import Math"
   ]
  },
  {
   "cell_type": "code",
   "execution_count": 17,
   "id": "c91bf50a",
   "metadata": {},
   "outputs": [
    {
     "data": {
      "text/latex": [
       "$\\displaystyle 3 + 4 = 7$"
      ],
      "text/plain": [
       "<IPython.core.display.Math object>"
      ]
     },
     "metadata": {},
     "output_type": "display_data"
    }
   ],
   "source": [
    "a = 3\n",
    "b = 4 \n",
    "\n",
    "display(Math('%g + %g = %g' %(a,b, a+b)))"
   ]
  },
  {
   "cell_type": "code",
   "execution_count": 51,
   "id": "3cfb8c58",
   "metadata": {},
   "outputs": [
    {
     "data": {
      "text/latex": [
       "$\\displaystyle \\frac {33} {3} = {11}$"
      ],
      "text/plain": [
       "<IPython.core.display.Math object>"
      ]
     },
     "metadata": {},
     "output_type": "display_data"
    }
   ],
   "source": [
    "x =33.0\n",
    "y =3\n",
    "\n",
    "display(Math('\\\\frac {%g} {%g} = {%g}' %(x,y, x/y)))"
   ]
  },
  {
   "cell_type": "code",
   "execution_count": 18,
   "id": "5804c4fb",
   "metadata": {},
   "outputs": [
    {
     "data": {
      "text/plain": [
       "1"
      ]
     },
     "execution_count": 18,
     "metadata": {},
     "output_type": "execute_result"
    }
   ],
   "source": [
    "3^2\n"
   ]
  },
  {
   "cell_type": "code",
   "execution_count": 19,
   "id": "be2d23e9",
   "metadata": {},
   "outputs": [
    {
     "data": {
      "text/plain": [
       "9"
      ]
     },
     "execution_count": 19,
     "metadata": {},
     "output_type": "execute_result"
    }
   ],
   "source": [
    "3**2\n"
   ]
  },
  {
   "cell_type": "code",
   "execution_count": 29,
   "id": "cab4ccef",
   "metadata": {},
   "outputs": [
    {
     "data": {
      "text/latex": [
       "$\\displaystyle {0} \\times2 = 0$"
      ],
      "text/plain": [
       "<IPython.core.display.Math object>"
      ]
     },
     "metadata": {},
     "output_type": "display_data"
    },
    {
     "data": {
      "text/latex": [
       "$\\displaystyle {1} \\times2 = 2$"
      ],
      "text/plain": [
       "<IPython.core.display.Math object>"
      ]
     },
     "metadata": {},
     "output_type": "display_data"
    },
    {
     "data": {
      "text/latex": [
       "$\\displaystyle {2} \\times2 = 4$"
      ],
      "text/plain": [
       "<IPython.core.display.Math object>"
      ]
     },
     "metadata": {},
     "output_type": "display_data"
    }
   ],
   "source": [
    "for i in range(0,3):\n",
    "\n",
    "    display(Math('{%g} \\\\times2 = %g' %(i,i*2)))"
   ]
  },
  {
   "cell_type": "code",
   "execution_count": 50,
   "id": "4d6b823b",
   "metadata": {},
   "outputs": [
    {
     "name": "stdout",
     "output_type": "stream",
     "text": [
      "True\n"
     ]
    }
   ],
   "source": [
    "a = 10\n",
    "b = 20\n",
    "\n",
    "result = 2*a <= b\n",
    "print(result)"
   ]
  },
  {
   "cell_type": "code",
   "execution_count": 65,
   "id": "7a9cf97f",
   "metadata": {},
   "outputs": [
    {
     "name": "stdout",
     "output_type": "stream",
     "text": [
      "50 is greater than 40. Time to celebrate\n"
     ]
    }
   ],
   "source": [
    "if (a+b)*2 > 40:\n",
    "    print(str(a+b*2) +http://localhost:8888/notebooks/21-bugHunt.ipnb# ' is greater than ' + str(40) + '. Time to celebrate')\n",
    "    \n",
    "else:\n",
    "    print(str('it is not greater' ))"
   ]
  },
  {
   "cell_type": "code",
   "execution_count": 3,
   "id": "d0429939",
   "metadata": {},
   "outputs": [
    {
     "name": "stdout",
     "output_type": "stream",
     "text": [
      "Input a number: 33\n",
      "33\n"
     ]
    }
   ],
   "source": [
    "var = (input('Input a number: '))\n",
    "print(var)"
   ]
  },
  {
   "cell_type": "code",
   "execution_count": 2,
   "id": "5f690d22",
   "metadata": {},
   "outputs": [
    {
     "data": {
      "text/plain": [
       "0.4"
      ]
     },
     "execution_count": 2,
     "metadata": {},
     "output_type": "execute_result"
    }
   ],
   "source": [
    "# division\n",
    "4/10\n"
   ]
  },
  {
   "cell_type": "code",
   "execution_count": 16,
   "id": "b48955eb",
   "metadata": {},
   "outputs": [
    {
     "name": "stdout",
     "output_type": "stream",
     "text": [
      "Input first number: 33\n",
      "Input second number: 22\n",
      "The sum of 33 and 22 is 55\n"
     ]
    }
   ],
   "source": [
    "# sum two nums\n",
    "\n",
    "from IPython.display import Math\n",
    "\n",
    "w = float(input('Input first number: '))\n",
    "z = float(input('Input second number: '))\n",
    "print('The sum of %g and %g is %g' %(w,z,w+z))"
   ]
  },
  {
   "cell_type": "code",
   "execution_count": 21,
   "id": "ce475202",
   "metadata": {},
   "outputs": [
    {
     "data": {
      "text/latex": [
       "$\\displaystyle \\frac {9} {3} = {3}$"
      ],
      "text/plain": [
       "<IPython.core.display.Math object>"
      ]
     },
     "metadata": {},
     "output_type": "display_data"
    },
    {
     "data": {
      "text/latex": [
       "$\\displaystyle \\frac {10} {5} = 2.0$"
      ],
      "text/plain": [
       "<IPython.core.display.Math object>"
      ]
     },
     "metadata": {},
     "output_type": "display_data"
    }
   ],
   "source": [
    "from IPython.display import Math\n",
    "\n",
    "x = 9\n",
    "y = 3\n",
    "display(Math('\\\\frac {%g} {%g} = {%g}' %(x,y, x/y)))\n",
    "\n",
    "#second method:\n",
    "\n",
    "display(Math('\\\\frac {10} {5} = ' + str(10/5)))"
   ]
  },
  {
   "cell_type": "code",
   "execution_count": 34,
   "id": "66cf3396",
   "metadata": {},
   "outputs": [
    {
     "name": "stdout",
     "output_type": "stream",
     "text": [
      "1\n",
      "2\n",
      "3\n",
      "4\n",
      "5\n",
      "6\n",
      "7\n",
      "8\n",
      "9\n",
      "10\n",
      "\n",
      "note q terminates at 8:\n",
      "3\n",
      "4\n",
      "5\n",
      "6\n",
      "7\n",
      "8\n"
     ]
    }
   ],
   "source": [
    "t = 1\n",
    "while t<11 :\n",
    "    print(t)\n",
    "    t = t + 1\n",
    "\n",
    "print()\n",
    "print('note q terminates at 8:')\n",
    "\n",
    "q = 2\n",
    "while q < 8:\n",
    "    q = q + 1 \n",
    "    print(q)"
   ]
  },
  {
   "cell_type": "code",
   "execution_count": null,
   "id": "3eead437",
   "metadata": {},
   "outputs": [],
   "source": []
  }
 ],
 "metadata": {
  "kernelspec": {
   "display_name": "Python 3 (ipykernel)",
   "language": "python",
   "name": "python3"
  },
  "language_info": {
   "codemirror_mode": {
    "name": "ipython",
    "version": 3
   },
   "file_extension": ".py",
   "mimetype": "text/x-python",
   "name": "python",
   "nbconvert_exporter": "python",
   "pygments_lexer": "ipython3",
   "version": "3.10.8"
  }
 },
 "nbformat": 4,
 "nbformat_minor": 5
}
