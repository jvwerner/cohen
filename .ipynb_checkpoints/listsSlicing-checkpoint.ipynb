{
 "cells": [
  {
   "cell_type": "code",
   "execution_count": 11,
   "id": "377d4b13",
   "metadata": {},
   "outputs": [
    {
     "name": "stdout",
     "output_type": "stream",
     "text": [
      "7\n",
      "12\n",
      "[7, 8, 9, 10]\n"
     ]
    },
    {
     "data": {
      "text/plain": [
       "12"
      ]
     },
     "execution_count": 11,
     "metadata": {},
     "output_type": "execute_result"
    }
   ],
   "source": [
    "list = [1,3,6,7,8,9,10,11,12]\n",
    "print(list[3])\n",
    "print(list[-1]) # access longer lists' last member\n",
    "k = 3\n",
    "n = 7\n",
    "print(list[k:n]) # access from 4th element (3), to 6th  elem (7 - 1)\n",
    "list[8]"
   ]
  },
  {
   "cell_type": "code",
   "execution_count": 30,
   "id": "f41602ce",
   "metadata": {},
   "outputs": [
    {
     "name": "stdout",
     "output_type": "stream",
     "text": [
      "to\n",
      "be\n",
      "or\n",
      "not\n",
      "to\n",
      "be\n",
      "0\n",
      "1\n",
      "2\n",
      "3\n",
      "4\n",
      "5\n",
      "It's\n",
      "all\n",
      "good\n",
      "here\n",
      "in\n",
      "Jersey\n"
     ]
    }
   ],
   "source": [
    "words = ['to', 'be', 'or', 'not', 'to', 'be']\n",
    "for i in words:\n",
    "    print(i)\n",
    "    \n",
    "wordy = ['It\\'s', 'all', 'good', 'here', 'in', 'Jersey']\n",
    "for j in range(0,len(wordy)):\n",
    "    print(j)\n",
    "    \n",
    "wurds = ['It\\'s', 'all', 'good', 'here', 'in', 'Jersey']\n",
    "for k in range(0,len(wurds)):\n",
    "    print(wurds[k])\n"
   ]
  },
  {
   "cell_type": "code",
   "execution_count": 37,
   "id": "5e50ecd8",
   "metadata": {},
   "outputs": [
    {
     "name": "stdout",
     "output_type": "stream",
     "text": [
      "3\n",
      "4\n",
      "yo homes\n",
      "[5, 8, 10]\n"
     ]
    },
    {
     "data": {
      "text/plain": [
       "10"
      ]
     },
     "execution_count": 37,
     "metadata": {},
     "output_type": "execute_result"
    }
   ],
   "source": [
    "alist = [3,4, 'yo homes', [5,8,10]] \n",
    "for i in alist:\n",
    "    print(i)\n",
    "alist[-1][2]"
   ]
  },
  {
   "cell_type": "code",
   "execution_count": null,
   "id": "80a200c1",
   "metadata": {},
   "outputs": [],
   "source": []
  }
 ],
 "metadata": {
  "kernelspec": {
   "display_name": "Python 3 (ipykernel)",
   "language": "python",
   "name": "python3"
  },
  "language_info": {
   "codemirror_mode": {
    "name": "ipython",
    "version": 3
   },
   "file_extension": ".py",
   "mimetype": "text/x-python",
   "name": "python",
   "nbconvert_exporter": "python",
   "pygments_lexer": "ipython3",
   "version": "3.10.11"
  }
 },
 "nbformat": 4,
 "nbformat_minor": 5
}
