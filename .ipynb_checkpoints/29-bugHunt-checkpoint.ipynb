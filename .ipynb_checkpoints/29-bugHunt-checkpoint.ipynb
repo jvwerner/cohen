{
 "cells": [
  {
   "cell_type": "code",
   "execution_count": 36,
   "id": "c5e078c5",
   "metadata": {},
   "outputs": [
    {
     "data": {
      "text/latex": [
       "$\\displaystyle 2 e^{\\frac{\\mu^{2}}{\\alpha}}$"
      ],
      "text/plain": [
       "<IPython.core.display.Math object>"
      ]
     },
     "metadata": {},
     "output_type": "display_data"
    }
   ],
   "source": [
    "from IPython.display import display, Math\n",
    "import sympy as sym\n",
    "sym.init_printing()\n",
    "\n",
    "mu,alpha = sym.symbols('mu, alpha')\n",
    "expr = 2*sym.exp(mu**2/alpha)\n",
    "display(Math(sym.latex(expr)))"
   ]
  },
  {
   "cell_type": "code",
   "execution_count": 13,
   "id": "17e43b6b",
   "metadata": {},
   "outputs": [
    {
     "name": "stdout",
     "output_type": "stream",
     "text": [
      "7.00000000000000\n",
      "7\n"
     ]
    }
   ],
   "source": [
    "a,b = '3','4'\n",
    "print(sym.sympify(int(a)+float(b)))\n",
    "\n",
    "# or remove quotes:\n",
    "c,d = 3,4\n",
    "print(sym.sympify(c+d))"
   ]
  },
  {
   "cell_type": "code",
   "execution_count": 21,
   "id": "076f4779",
   "metadata": {},
   "outputs": [
    {
     "data": {
      "text/latex": [
       "$\\displaystyle \\text{True}$"
      ],
      "text/plain": [
       "True"
      ]
     },
     "execution_count": 21,
     "metadata": {},
     "output_type": "execute_result"
    }
   ],
   "source": [
    "x = 1/2\n",
    "sym.Eq(4*x , 2.0)"
   ]
  },
  {
   "cell_type": "code",
   "execution_count": 45,
   "id": "ec3fe888",
   "metadata": {},
   "outputs": [
    {
     "data": {
      "text/plain": [
       "True"
      ]
     },
     "metadata": {},
     "output_type": "display_data"
    },
    {
     "data": {
      "image/png": "[encoded data removed]",
      "text/latex": [
       "$\\displaystyle 0.25$"
      ],
      "text/plain": [
       "0.25"
      ]
     },
     "metadata": {},
     "output_type": "display_data"
    }
   ],
   "source": [
    "x = 1/2\n",
    "\n",
    "q = x != 2\n",
    "r = x**2\n",
    "display(q)\n",
    "display(r)"
   ]
  },
  {
   "cell_type": "code",
   "execution_count": 49,
   "id": "e0492ce9",
   "metadata": {},
   "outputs": [
    {
     "data": {
      "image/png": "[encoded data removed]",
      "text/latex": [
       "$\\displaystyle x^{2}$"
      ],
      "text/plain": [
       " 2\n",
       "x "
      ]
     },
     "metadata": {},
     "output_type": "display_data"
    },
    {
     "data": {
      "image/png": "[encoded data removed]",
      "text/latex": [
       "$\\displaystyle x^{2}$"
      ],
      "text/plain": [
       " 2\n",
       "x "
      ]
     },
     "metadata": {},
     "output_type": "display_data"
    },
    {
     "data": {
      "text/latex": [
       "$\\displaystyle \\text{True}$"
      ],
      "text/plain": [
       "True"
      ]
     },
     "execution_count": 49,
     "metadata": {},
     "output_type": "execute_result"
    }
   ],
   "source": [
    "q = sym.sympify('x^2')\n",
    "r = sym.sympify('x**2')\n",
    "\n",
    "display(q,r)\n",
    "sym.Eq(q,r)"
   ]
  },
  {
   "cell_type": "code",
   "execution_count": 56,
   "id": "ac6eeb6f",
   "metadata": {},
   "outputs": [
    {
     "data": {
      "image/png": "[encoded data removed]",
      "text/latex": [
       "$\\displaystyle \\left(4 x^{2} - 5 x + 10\\right)^{0.5}$"
      ],
      "text/plain": [
       "                 0.5\n",
       "⎛   2           ⎞   \n",
       "⎝4⋅x  - 5⋅x + 10⎠   "
      ]
     },
     "metadata": {},
     "output_type": "display_data"
    },
    {
     "data": {
      "image/png": "[encoded data removed]",
      "text/latex": [
       "$\\displaystyle 5.56776436283002$"
      ],
      "text/plain": [
       "5.56776436283002"
      ]
     },
     "execution_count": 56,
     "metadata": {},
     "output_type": "execute_result"
    }
   ],
   "source": [
    "x = sym.symbols('x')\n",
    "equation = (4*x**2 - 5*x + 10) ** (.5)\n",
    "display(equation)\n",
    "equation.subs(x,3)"
   ]
  },
  {
   "cell_type": "code",
   "execution_count": 59,
   "id": "bcec2ed9",
   "metadata": {},
   "outputs": [
    {
     "data": {
      "image/png": "[encoded data removed]",
      "text/latex": [
       "$\\displaystyle 0.25 s t^{2} - s \\left(5 s + 10 t^{2}\\right)^{3}$"
      ],
      "text/plain": [
       "                           3\n",
       "        2     ⎛          2⎞ \n",
       "0.25⋅s⋅t  - s⋅⎝5⋅s + 10⋅t ⎠ "
      ]
     },
     "metadata": {},
     "output_type": "display_data"
    }
   ],
   "source": [
    "s,t = sym.symbols('s,t')\n",
    "equation = (1/4)*s*(t**2) - s*(5*s + 10*t**2)**(3)\n",
    "display(equation)"
   ]
  },
  {
   "cell_type": "code",
   "execution_count": null,
   "id": "b0125717",
   "metadata": {},
   "outputs": [],
   "source": []
  }
 ],
 "metadata": {
  "kernelspec": {
   "display_name": "Python 3 (ipykernel)",
   "language": "python",
   "name": "python3"
  },
  "language_info": {
   "codemirror_mode": {
    "name": "ipython",
    "version": 3
   },
   "file_extension": ".py",
   "mimetype": "text/x-python",
   "name": "python",
   "nbconvert_exporter": "python",
   "pygments_lexer": "ipython3",
   "version": "3.10.11"
  }
 },
 "nbformat": 4,
 "nbformat_minor": 5
}
