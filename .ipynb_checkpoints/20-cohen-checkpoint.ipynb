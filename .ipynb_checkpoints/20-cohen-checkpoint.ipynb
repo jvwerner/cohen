{
 "cells": [
  {
   "cell_type": "code",
   "execution_count": 33,
   "id": "b373df91",
   "metadata": {},
   "outputs": [],
   "source": [
    "from IPython.display import display, Math\n",
    "\n",
    "def powers(x,y):\n",
    "    display(Math('%g^{%g} = %g' %(x,y,x**y)))\n",
    "    \n",
    "def division(x,y):\n",
    "    display(Math('\\\\frac{%g}{%g} = %g' %(x,y,x/y)))\n",
    "\n",
    "def question():\n",
    "    x = float(input('X: '))\n",
    "    y = float(input('Y: '))\n",
    "    \n",
    "    display(Math('\\\\text { press \"1\" to compute } %g^{%g} \\\\text { or press \"2\" to compute } \\\\frac{%g}{%g}' %(x,y,x,y)))\n",
    "    switch = input(' ')\n",
    "    \n",
    "    if switch=='1': \n",
    "        powers(x,y)\n",
    "        \n",
    "    elif switch=='2': \n",
    "        division(x,y)\n",
    "        \n",
    "    else: \n",
    "        print('Invalid entry')    "
   ]
  },
  {
   "cell_type": "code",
   "execution_count": 4,
   "id": "103e052e",
   "metadata": {},
   "outputs": [
    {
     "data": {
      "text/latex": [
       "$\\displaystyle 8^{4} = 4096$"
      ],
      "text/plain": [
       "<IPython.core.display.Math object>"
      ]
     },
     "metadata": {},
     "output_type": "display_data"
    }
   ],
   "source": [
    "powers(8,4)"
   ]
  },
  {
   "cell_type": "code",
   "execution_count": 6,
   "id": "2f84ede3",
   "metadata": {},
   "outputs": [
    {
     "data": {
      "text/latex": [
       "$\\displaystyle \\frac{90}{7} = 12.8571$"
      ],
      "text/plain": [
       "<IPython.core.display.Math object>"
      ]
     },
     "metadata": {},
     "output_type": "display_data"
    }
   ],
   "source": [
    "division(90,7)"
   ]
  },
  {
   "cell_type": "code",
   "execution_count": 10,
   "id": "e89a499b",
   "metadata": {},
   "outputs": [
    {
     "name": "stdout",
     "output_type": "stream",
     "text": [
      "X: 33\n",
      "Y: 4\n"
     ]
    },
    {
     "data": {
      "text/latex": [
       "$\\displaystyle press \"1\" to compute %g^{%g} or press \"2\" to compute \\frac{%g}{%g}$"
      ],
      "text/plain": [
       "<IPython.core.display.Math object>"
      ]
     },
     "metadata": {},
     "output_type": "display_data"
    }
   ],
   "source": [
    "question()\n"
   ]
  },
  {
   "cell_type": "markdown",
   "id": "14a91112",
   "metadata": {},
   "source": [
    "# "
   ]
  },
  {
   "cell_type": "code",
   "execution_count": 13,
   "id": "d931f29b",
   "metadata": {},
   "outputs": [
    {
     "name": "stdout",
     "output_type": "stream",
     "text": [
      "X: 22\n",
      "Y: 3\n"
     ]
    },
    {
     "data": {
      "text/latex": [
       "$\\displaystyle press \"1\" to compute 22^{3} or press \"2\" to compute \\frac{22}{3}$"
      ],
      "text/plain": [
       "<IPython.core.display.Math object>"
      ]
     },
     "metadata": {},
     "output_type": "display_data"
    }
   ],
   "source": [
    "question()"
   ]
  },
  {
   "cell_type": "code",
   "execution_count": 14,
   "id": "449c7522",
   "metadata": {},
   "outputs": [
    {
     "data": {
      "text/plain": [
       "1"
      ]
     },
     "execution_count": 14,
     "metadata": {},
     "output_type": "execute_result"
    }
   ],
   "source": [
    "1\n"
   ]
  },
  {
   "cell_type": "code",
   "execution_count": 16,
   "id": "daf97c32",
   "metadata": {},
   "outputs": [
    {
     "name": "stdout",
     "output_type": "stream",
     "text": [
      "X: 4\n",
      "Y: 5\n"
     ]
    },
    {
     "data": {
      "text/latex": [
       "$\\displaystyle \\text {press \"1\" to compute } 4^{5} \\text {or press \"2\" to compute} \\frac{4}{5}$"
      ],
      "text/plain": [
       "<IPython.core.display.Math object>"
      ]
     },
     "metadata": {},
     "output_type": "display_data"
    }
   ],
   "source": [
    "question()\n"
   ]
  },
  {
   "cell_type": "code",
   "execution_count": 34,
   "id": "67c6a0f4",
   "metadata": {},
   "outputs": [
    {
     "name": "stdout",
     "output_type": "stream",
     "text": [
      "X: 3\n",
      "Y: 6\n"
     ]
    },
    {
     "data": {
      "text/latex": [
       "$\\displaystyle \\text { press \"1\" to compute } 3^{6} \\text { or press \"2\" to compute } \\frac{3}{6}$"
      ],
      "text/plain": [
       "<IPython.core.display.Math object>"
      ]
     },
     "metadata": {},
     "output_type": "display_data"
    },
    {
     "name": "stdout",
     "output_type": "stream",
     "text": [
      " 2\n"
     ]
    },
    {
     "data": {
      "text/latex": [
       "$\\displaystyle \\frac{3}{6} = 0.5$"
      ],
      "text/plain": [
       "<IPython.core.display.Math object>"
      ]
     },
     "metadata": {},
     "output_type": "display_data"
    }
   ],
   "source": [
    "question()\n"
   ]
  },
  {
   "cell_type": "markdown",
   "id": "63ffbdce",
   "metadata": {},
   "source": []
  }
 ],
 "metadata": {
  "kernelspec": {
   "display_name": "Python 3 (ipykernel)",
   "language": "python",
   "name": "python3"
  },
  "language_info": {
   "codemirror_mode": {
    "name": "ipython",
    "version": 3
   },
   "file_extension": ".py",
   "mimetype": "text/x-python",
   "name": "python",
   "nbconvert_exporter": "python",
   "pygments_lexer": "ipython3",
   "version": "3.10.11"
  }
 },
 "nbformat": 4,
 "nbformat_minor": 5
}
