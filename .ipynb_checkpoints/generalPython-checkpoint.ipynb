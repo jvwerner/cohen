{
 "cells": [
  {
   "cell_type": "code",
   "execution_count": 1,
   "id": "eb57ca11",
   "metadata": {},
   "outputs": [
    {
     "name": "stdout",
     "output_type": "stream",
     "text": [
      "The factors of 13 are:\n",
      "1\n",
      "13\n"
     ]
    }
   ],
   "source": [
    "# Python Program to find the factors of a number\n",
    "\n",
    "# This function computes the factor of the argument passed\n",
    "def print_factors(x):\n",
    "   print(\"The factors of\",x,\"are:\")\n",
    "   for i in range(1, x + 1):\n",
    "       if x % i == 0:\n",
    "           print(i)\n",
    "\n",
    "num = 13\n",
    "print_factors(num)"
   ]
  },
  {
   "cell_type": "code",
   "execution_count": 8,
   "id": "6a7ec57d",
   "metadata": {},
   "outputs": [
    {
     "name": "stdout",
     "output_type": "stream",
     "text": [
      "True\n"
     ]
    }
   ],
   "source": [
    "# efficient Function to Check for Prime Numbers -- note square root\n",
    "\n",
    "def is_prime(number):\n",
    "    if number > 1:\n",
    "        for num in range(2, int(number**0.5) + 1):\n",
    "            if number % num == 0:\n",
    "                return False\n",
    "        return True\n",
    "    return False\n",
    "\n",
    "print(is_prime(2017))"
   ]
  },
  {
   "cell_type": "code",
   "execution_count": 11,
   "id": "3cadf674",
   "metadata": {},
   "outputs": [
    {
     "data": {
      "text/plain": [
       "4.16227766016838"
      ]
     },
     "execution_count": 11,
     "metadata": {},
     "output_type": "execute_result"
    }
   ],
   "source": [
    "float(10**0.5 +1)"
   ]
  },
  {
   "cell_type": "code",
   "execution_count": 17,
   "id": "3a38bbba",
   "metadata": {},
   "outputs": [
    {
     "name": "stdout",
     "output_type": "stream",
     "text": [
      "42\n",
      "0.0\n",
      "0.0\n"
     ]
    },
    {
     "data": {
      "text/plain": [
       "'3+4 = '"
      ]
     },
     "metadata": {},
     "output_type": "display_data"
    },
    {
     "data": {
      "text/plain": [
       "'7'"
      ]
     },
     "metadata": {},
     "output_type": "display_data"
    },
    {
     "data": {
      "text/plain": [
       "'3+4 = 7'"
      ]
     },
     "metadata": {},
     "output_type": "display_data"
    }
   ],
   "source": [
    "from IPython.display import display, Math\n",
    "\n",
    "x = 7\n",
    "y = (-2)\n",
    "z = 5\n",
    "\n",
    "print((3*x) * (4+y) )\n",
    "\n",
    "first = (-y - (x+3)/z)\n",
    "second = ((-y) - (x+3)/z)\n",
    "print(first)\n",
    "print(second)\n",
    "\n",
    "display( '3+4 = ', str(3+4))\n",
    "display( '3+4 = ' + str(3+4))"
   ]
  },
  {
   "cell_type": "code",
   "execution_count": 16,
   "id": "d9202209",
   "metadata": {},
   "outputs": [
    {
     "data": {
      "text/plain": [
       "4.16227766016838"
      ]
     },
     "execution_count": 16,
     "metadata": {},
     "output_type": "execute_result"
    }
   ],
   "source": [
    "10**((0.5)) +1"
   ]
  },
  {
   "cell_type": "code",
   "execution_count": null,
   "id": "8b4cd646",
   "metadata": {},
   "outputs": [],
   "source": []
  }
 ],
 "metadata": {
  "kernelspec": {
   "display_name": "Python 3 (ipykernel)",
   "language": "python",
   "name": "python3"
  },
  "language_info": {
   "codemirror_mode": {
    "name": "ipython",
    "version": 3
   },
   "file_extension": ".py",
   "mimetype": "text/x-python",
   "name": "python",
   "nbconvert_exporter": "python",
   "pygments_lexer": "ipython3",
   "version": "3.10.11"
  }
 },
 "nbformat": 4,
 "nbformat_minor": 5
}
