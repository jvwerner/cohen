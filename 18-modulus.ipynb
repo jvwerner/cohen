{
 "cells": [
  {
   "cell_type": "code",
   "execution_count": 6,
   "id": "df151fd2",
   "metadata": {},
   "outputs": [
    {
     "name": "stdout",
     "output_type": "stream",
     "text": [
      "3 divides 10 3 times, with a remainder of 1\n"
     ]
    }
   ],
   "source": [
    "a = 10\n",
    "b = 3\n",
    "divis = int(a/b)\n",
    "remainder = a%b\n",
    "print('%g divides %g %g times, with a remainder of %g' %(b,a,divis,remainder))"
   ]
  },
  {
   "cell_type": "code",
   "execution_count": 43,
   "id": "056b9fc5",
   "metadata": {},
   "outputs": [
    {
     "name": "stdout",
     "output_type": "stream",
     "text": [
      "-5 is an odd  number\n",
      "-4 is an even number\n",
      "-3 is an odd  number\n",
      "-2 is an even number\n",
      "-1 is an odd  number\n",
      " 0 is an even number\n",
      " 1 is an odd  number\n",
      " 2 is an even number\n",
      " 3 is an odd  number\n",
      " 4 is an even number\n"
     ]
    }
   ],
   "source": [
    "list = range(-5,5)\n",
    "\n",
    "for i in list:\n",
    "    \n",
    "    firstchar = ' '\n",
    "    if i<0:\n",
    "        firstchar = ''\n",
    "        \n",
    "    if i%2 == 0:\n",
    "        print('%s%g is an even number' %(firstchar, i))\n",
    "    else: \n",
    "        print('%s%g is an odd  number' %(firstchar, i))\n",
    "        \n",
    "    "
   ]
  },
  {
   "cell_type": "code",
   "execution_count": null,
   "id": "822f6d94",
   "metadata": {},
   "outputs": [],
   "source": []
  },
  {
   "cell_type": "code",
   "execution_count": null,
   "id": "d4d6612a",
   "metadata": {},
   "outputs": [],
   "source": []
  }
 ],
 "metadata": {
  "kernelspec": {
   "display_name": "Python 3 (ipykernel)",
   "language": "python",
   "name": "python3"
  },
  "language_info": {
   "codemirror_mode": {
    "name": "ipython",
    "version": 3
   },
   "file_extension": ".py",
   "mimetype": "text/x-python",
   "name": "python",
   "nbconvert_exporter": "python",
   "pygments_lexer": "ipython3",
   "version": "3.10.5"
  }
 },
 "nbformat": 4,
 "nbformat_minor": 5
}
