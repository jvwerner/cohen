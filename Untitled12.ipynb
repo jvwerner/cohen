{
 "cells": [
  {
   "cell_type": "code",
   "execution_count": 9,
   "id": "80fa823a",
   "metadata": {},
   "outputs": [],
   "source": [
    "import sympy as sym\n",
    "from sympy.abc import x,y"
   ]
  },
  {
   "cell_type": "code",
   "execution_count": 10,
   "id": "8ce8fbe4",
   "metadata": {},
   "outputs": [
    {
     "name": "stdout",
     "output_type": "stream",
     "text": [
      "True\n",
      "24\n",
      "24\n",
      "24\n"
     ]
    },
    {
     "data": {
      "text/latex": [
       "$\\displaystyle a c + a d + b c + b d$"
      ],
      "text/plain": [
       "a*c + a*d + b*c + b*d"
      ]
     },
     "execution_count": 10,
     "metadata": {},
     "output_type": "execute_result"
    }
   ],
   "source": [
    "# associative\n",
    "expr1 = x*(4*y)\n",
    "expr2 = (x*4)*y\n",
    "print(expr2 == expr1)\n",
    "\n",
    "# communitive\n",
    "e1 = 4*x*y\n",
    "e2 = x*4*y\n",
    "e3 = y*x*4\n",
    "\n",
    "print(e1.subs({x:3,y:2}))\n",
    "print(e2.subs({x:3,y:2}))\n",
    "print(e3.subs({x:3,y:2}))\n",
    "\n",
    "# distributive\n",
    "a,b,c,d = sym.symbols('a,b,c,d')\n",
    "express = (a+b)*(c+d)\n",
    "sym.expand(express)\n"
   ]
  },
  {
   "cell_type": "code",
   "execution_count": null,
   "id": "758d5134",
   "metadata": {},
   "outputs": [],
   "source": []
  }
 ],
 "metadata": {
  "kernelspec": {
   "display_name": "Python 3 (ipykernel)",
   "language": "python",
   "name": "python3"
  },
  "language_info": {
   "codemirror_mode": {
    "name": "ipython",
    "version": 3
   },
   "file_extension": ".py",
   "mimetype": "text/x-python",
   "name": "python",
   "nbconvert_exporter": "python",
   "pygments_lexer": "ipython3",
   "version": "3.10.11"
  }
 },
 "nbformat": 4,
 "nbformat_minor": 5
}
